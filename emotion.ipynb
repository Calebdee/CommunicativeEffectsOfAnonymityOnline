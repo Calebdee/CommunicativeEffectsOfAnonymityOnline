{
 "cells": [
  {
   "cell_type": "code",
   "execution_count": null,
   "metadata": {},
   "outputs": [],
   "source": [
    "###\n",
    "# Caleb Johnson\n",
    "#\n",
    "# Credits to Elvis Saravia for model set-up\n",
    "###"
   ]
  },
  {
   "cell_type": "code",
   "execution_count": 1,
   "metadata": {},
   "outputs": [],
   "source": [
    "import torch\n",
    "import torch.functional as F\n",
    "import torch.nn as nn\n",
    "import torch.optim as optim\n",
    "from torch.nn.utils.rnn import pack_padded_sequence, pad_packed_sequence"
   ]
  },
  {
   "cell_type": "code",
   "execution_count": 2,
   "metadata": {},
   "outputs": [],
   "source": [
    "import re\n",
    "import numpy as np\n",
    "import time\n",
    "from sklearn import preprocessing\n",
    "from sklearn.model_selection import train_test_split\n",
    "import matplotlib.pyplot as plt\n",
    "%matplotlib inline\n",
    "\n",
    "import itertools\n",
    "import pandas as pd\n",
    "from scipy import stats\n",
    "from sklearn import metrics\n",
    "from sklearn.preprocessing import LabelEncoder"
   ]
  },
  {
   "cell_type": "code",
   "execution_count": 158,
   "metadata": {},
   "outputs": [
    {
     "name": "stdout",
     "output_type": "stream",
     "text": [
      "(616077, 5)\n"
     ]
    }
   ],
   "source": [
    "import mysql.connector as sql\n",
    "import pandas as pd\n",
    "\n",
    "db_connection = sql.connect(host='localhost', database='Thesis', user='guest', password='guest')\n",
    "try:\n",
    "    df = pd.read_sql('SELECT * FROM FullTweets where classification = \\'highly-anonymous\\'', con=db_connection)\n",
    "    print(df.shape)\n",
    "    \n",
    "except:\n",
    "    print(\"Error: Read_SQL Fail\")"
   ]
  },
  {
   "cell_type": "code",
   "execution_count": 34,
   "metadata": {},
   "outputs": [
    {
     "data": {
      "text/plain": [
       "<matplotlib.axes._subplots.AxesSubplot at 0x154599c50>"
      ]
     },
     "execution_count": 34,
     "metadata": {},
     "output_type": "execute_result"
    },
    {
     "data": {
      "image/png": "[encoded data removed]",
      "text/plain": [
       "<Figure size 432x288 with 1 Axes>"
      ]
     },
     "metadata": {
      "needs_background": "light"
     },
     "output_type": "display_data"
    }
   ],
   "source": [
    "df.classification.value_counts().plot(kind='bar')"
   ]
  },
  {
   "cell_type": "code",
   "execution_count": 3,
   "metadata": {},
   "outputs": [],
   "source": [
    "### Helper functions\n",
    "import pickle\n",
    "\n",
    "def convert_to_pickle(item, directory):\n",
    "    pickle.dump(item, open(directory,\"wb\"))\n",
    "\n",
    "\n",
    "def load_from_pickle(directory):\n",
    "    return pickle.load(open(directory,\"rb\"))"
   ]
  },
  {
   "cell_type": "code",
   "execution_count": 5,
   "metadata": {},
   "outputs": [],
   "source": [
    "# Loading in our training dataset that has been trained specifically on Tweets\n",
    "data = load_from_pickle(directory=\"/Users/calebjohnson/Desktop/BYU/Thesis/Anonymity/merged_training.pkl\")"
   ]
  },
  {
   "cell_type": "code",
   "execution_count": 6,
   "metadata": {},
   "outputs": [
    {
     "data": {
      "text/plain": [
       "<matplotlib.axes._subplots.AxesSubplot at 0x7fcff18c4a90>"
      ]
     },
     "execution_count": 6,
     "metadata": {},
     "output_type": "execute_result"
    },
    {
     "data": {
      "image/png": "[encoded data removed]",
      "text/plain": [
       "<Figure size 432x288 with 1 Axes>"
      ]
     },
     "metadata": {
      "needs_background": "light"
     },
     "output_type": "display_data"
    }
   ],
   "source": [
    "data[\"token_size\"] = data[\"text\"].apply(lambda x: len(x.split(' ')))\n",
    "data = data.loc[data['token_size'] < 70].copy()\n",
    "\n",
    "# sampling\n",
    "data = data.sample(n=50000);\n",
    "\n",
    "data.emotions.value_counts().plot.bar(color = ['red','orange','yellow','green','blue', 'purple'])"
   ]
  },
  {
   "cell_type": "code",
   "execution_count": 7,
   "metadata": {},
   "outputs": [],
   "source": [
    "# This class creates a word -> index mapping (e.g,. \"dad\" -> 5) and vice-versa \n",
    "# (e.g., 5 -> \"dad\") for the dataset\n",
    "class ConstructVocab():\n",
    "    def __init__(self, sentences):\n",
    "        self.sentences = sentences\n",
    "        self.word2idx = {}\n",
    "        self.idx2word = {}\n",
    "        self.vocab = set()\n",
    "        self.create_index()\n",
    "        \n",
    "    def create_index(self):\n",
    "        for s in self.sentences:\n",
    "            # update with individual tokens\n",
    "            self.vocab.update(s.split(' '))\n",
    "            \n",
    "        # sort the vocab\n",
    "        self.vocab = sorted(self.vocab)\n",
    "\n",
    "        # add a padding token with index 0\n",
    "        self.word2idx['<pad>'] = 0\n",
    "        \n",
    "        # word to index mapping\n",
    "        for index, word in enumerate(self.vocab):\n",
    "            self.word2idx[word] = index + 1 # +1 because of pad token\n",
    "        \n",
    "        # index to word mapping\n",
    "        for word, index in self.word2idx.items():\n",
    "            self.idx2word[index] = word  "
   ]
  },
  {
   "cell_type": "code",
   "execution_count": 8,
   "metadata": {},
   "outputs": [
    {
     "data": {
      "text/plain": [
       "['a',\n",
       " 'aaaa',\n",
       " 'aaaaaaaaaaaaaaaaggghhhh',\n",
       " 'aaaaaaand',\n",
       " 'aaand',\n",
       " 'aaargh',\n",
       " 'aab',\n",
       " 'aacc',\n",
       " 'aactually',\n",
       " 'aajao']"
      ]
     },
     "execution_count": 8,
     "metadata": {},
     "output_type": "execute_result"
    }
   ],
   "source": [
    "# construct vocab and indexing\n",
    "inputs = ConstructVocab(data[\"text\"].values.tolist())\n",
    "\n",
    "# examples of what is in the vocab\n",
    "inputs.vocab[0:10]"
   ]
  },
  {
   "cell_type": "code",
   "execution_count": 9,
   "metadata": {},
   "outputs": [],
   "source": [
    "# Vectorize to tensor\n",
    "input_tensor = [[inputs.word2idx[s] for s in es.split(' ')]  for es in data[\"text\"].values.tolist()]"
   ]
  },
  {
   "cell_type": "code",
   "execution_count": 10,
   "metadata": {},
   "outputs": [
    {
     "data": {
      "text/plain": [
       "[[12616,\n",
       "  2041,\n",
       "  8776,\n",
       "  5348,\n",
       "  13554,\n",
       "  2016,\n",
       "  22339,\n",
       "  12547,\n",
       "  27071,\n",
       "  1,\n",
       "  24257,\n",
       "  18585,\n",
       "  13968,\n",
       "  876,\n",
       "  16213,\n",
       "  16671,\n",
       "  21116,\n",
       "  24540,\n",
       "  19805,\n",
       "  24159,\n",
       "  11589,\n",
       "  6447,\n",
       "  24159,\n",
       "  27178,\n",
       "  517],\n",
       " [11589,\n",
       "  8769,\n",
       "  13883,\n",
       "  12606,\n",
       "  16618,\n",
       "  24540,\n",
       "  1972,\n",
       "  11851,\n",
       "  24167,\n",
       "  21874,\n",
       "  16352,\n",
       "  11589,\n",
       "  26356,\n",
       "  22547,\n",
       "  677,\n",
       "  24167,\n",
       "  10416,\n",
       "  26817,\n",
       "  5864,\n",
       "  20247,\n",
       "  15766,\n",
       "  2598]]"
      ]
     },
     "execution_count": 10,
     "metadata": {},
     "output_type": "execute_result"
    }
   ],
   "source": [
    "# Examples of what is in the input tensors\n",
    "input_tensor[0:2]"
   ]
  },
  {
   "cell_type": "code",
   "execution_count": 11,
   "metadata": {},
   "outputs": [],
   "source": [
    "def max_length(tensor):\n",
    "    return max(len(t) for t in tensor)"
   ]
  },
  {
   "cell_type": "code",
   "execution_count": 12,
   "metadata": {},
   "outputs": [
    {
     "name": "stdout",
     "output_type": "stream",
     "text": [
      "67\n"
     ]
    }
   ],
   "source": [
    "# calculate the max_length of input tensor\n",
    "max_length_inp = max_length(input_tensor)\n",
    "print(max_length_inp)"
   ]
  },
  {
   "cell_type": "code",
   "execution_count": 13,
   "metadata": {},
   "outputs": [],
   "source": [
    "def pad_sequences(x, max_len):\n",
    "    padded = np.zeros((max_len), dtype=np.int64)\n",
    "    if len(x) > max_len: padded[:] = x[:max_len]\n",
    "    else: padded[:len(x)] = x\n",
    "    return padded"
   ]
  },
  {
   "cell_type": "code",
   "execution_count": 14,
   "metadata": {},
   "outputs": [],
   "source": [
    "# inplace padding\n",
    "input_tensor = [pad_sequences(x, max_length_inp) for x in input_tensor]"
   ]
  },
  {
   "cell_type": "code",
   "execution_count": 15,
   "metadata": {},
   "outputs": [
    {
     "data": {
      "text/plain": [
       "[array([12616,  2041,  8776,  5348, 13554,  2016, 22339, 12547, 27071,\n",
       "            1, 24257, 18585, 13968,   876, 16213, 16671, 21116, 24540,\n",
       "        19805, 24159, 11589,  6447, 24159, 27178,   517,     0,     0,\n",
       "            0,     0,     0,     0,     0,     0,     0,     0,     0,\n",
       "            0,     0,     0,     0,     0,     0,     0,     0,     0,\n",
       "            0,     0,     0,     0,     0,     0,     0,     0,     0,\n",
       "            0,     0,     0,     0,     0,     0,     0,     0,     0,\n",
       "            0,     0,     0,     0]),\n",
       " array([11589,  8769, 13883, 12606, 16618, 24540,  1972, 11851, 24167,\n",
       "        21874, 16352, 11589, 26356, 22547,   677, 24167, 10416, 26817,\n",
       "         5864, 20247, 15766,  2598,     0,     0,     0,     0,     0,\n",
       "            0,     0,     0,     0,     0,     0,     0,     0,     0,\n",
       "            0,     0,     0,     0,     0,     0,     0,     0,     0,\n",
       "            0,     0,     0,     0,     0,     0,     0,     0,     0,\n",
       "            0,     0,     0,     0,     0,     0,     0,     0,     0,\n",
       "            0,     0,     0,     0])]"
      ]
     },
     "execution_count": 15,
     "metadata": {},
     "output_type": "execute_result"
    }
   ],
   "source": [
    "input_tensor[0:2]"
   ]
  },
  {
   "cell_type": "code",
   "execution_count": 16,
   "metadata": {},
   "outputs": [],
   "source": [
    "### convert targets to one-hot encoding vectors\n",
    "emotions = list(set(data.emotions.unique()))\n",
    "num_emotions = len(emotions)\n",
    "# binarizer\n",
    "mlb = preprocessing.MultiLabelBinarizer()\n",
    "data_labels =  [set(emos) & set(emotions) for emos in data[['emotions']].values]\n",
    "bin_emotions = mlb.fit_transform(data_labels)\n",
    "target_tensor = np.array(bin_emotions.tolist())"
   ]
  },
  {
   "cell_type": "code",
   "execution_count": 17,
   "metadata": {},
   "outputs": [
    {
     "data": {
      "text/plain": [
       "array([[1, 0, 0, 0, 0, 0],\n",
       "       [0, 0, 1, 0, 0, 0]])"
      ]
     },
     "execution_count": 17,
     "metadata": {},
     "output_type": "execute_result"
    }
   ],
   "source": [
    "target_tensor[0:2] "
   ]
  },
  {
   "cell_type": "code",
   "execution_count": 18,
   "metadata": {},
   "outputs": [
    {
     "data": {
      "text/html": [
       "<div>\n",
       "<style scoped>\n",
       "    .dataframe tbody tr th:only-of-type {\n",
       "        vertical-align: middle;\n",
       "    }\n",
       "\n",
       "    .dataframe tbody tr th {\n",
       "        vertical-align: top;\n",
       "    }\n",
       "\n",
       "    .dataframe thead th {\n",
       "        text-align: right;\n",
       "    }\n",
       "</style>\n",
       "<table border=\"1\" class=\"dataframe\">\n",
       "  <thead>\n",
       "    <tr style=\"text-align: right;\">\n",
       "      <th></th>\n",
       "      <th>text</th>\n",
       "      <th>emotions</th>\n",
       "      <th>token_size</th>\n",
       "    </tr>\n",
       "  </thead>\n",
       "  <tbody>\n",
       "    <tr>\n",
       "      <th>56544</th>\n",
       "      <td>ive been feeling cranky lately because someone...</td>\n",
       "      <td>anger</td>\n",
       "      <td>25</td>\n",
       "    </tr>\n",
       "    <tr>\n",
       "      <th>49335</th>\n",
       "      <td>i feel like its ok to be in the skatepark now ...</td>\n",
       "      <td>joy</td>\n",
       "      <td>22</td>\n",
       "    </tr>\n",
       "  </tbody>\n",
       "</table>\n",
       "</div>"
      ],
      "text/plain": [
       "                                                    text emotions  token_size\n",
       "56544  ive been feeling cranky lately because someone...    anger          25\n",
       "49335  i feel like its ok to be in the skatepark now ...      joy          22"
      ]
     },
     "execution_count": 18,
     "metadata": {},
     "output_type": "execute_result"
    }
   ],
   "source": [
    "data[0:2]"
   ]
  },
  {
   "cell_type": "code",
   "execution_count": 19,
   "metadata": {},
   "outputs": [],
   "source": [
    "get_emotion = lambda t: np.argmax(t)"
   ]
  },
  {
   "cell_type": "code",
   "execution_count": 20,
   "metadata": {},
   "outputs": [
    {
     "data": {
      "text/plain": [
       "0"
      ]
     },
     "execution_count": 20,
     "metadata": {},
     "output_type": "execute_result"
    }
   ],
   "source": [
    "get_emotion(target_tensor[0])"
   ]
  },
  {
   "cell_type": "code",
   "execution_count": 21,
   "metadata": {},
   "outputs": [],
   "source": [
    "emotion_dict = {0: 'anger', 1: 'fear', 2: 'joy', 3: 'love', 4: 'sadness', 5: 'surprise'}"
   ]
  },
  {
   "cell_type": "code",
   "execution_count": 22,
   "metadata": {},
   "outputs": [
    {
     "data": {
      "text/plain": [
       "'anger'"
      ]
     },
     "execution_count": 22,
     "metadata": {},
     "output_type": "execute_result"
    }
   ],
   "source": [
    "emotion_dict[get_emotion(target_tensor[0])]"
   ]
  },
  {
   "cell_type": "code",
   "execution_count": 23,
   "metadata": {},
   "outputs": [
    {
     "name": "stdout",
     "output_type": "stream",
     "text": [
      "10000\n"
     ]
    },
    {
     "data": {
      "text/plain": [
       "(40000, 40000, 5000, 5000, 5000, 5000)"
      ]
     },
     "execution_count": 23,
     "metadata": {},
     "output_type": "execute_result"
    }
   ],
   "source": [
    "# Creating training and validation sets using an 80-20 split\n",
    "input_tensor_train, input_tensor_val, target_tensor_train, target_tensor_val = train_test_split(input_tensor, target_tensor, test_size=0.2)\n",
    "\n",
    "print(len(input_tensor_val))\n",
    "# Split the validataion further to obtain a holdout dataset (for testing) -- split 50:50\n",
    "input_tensor_val, input_tensor_test, target_tensor_val, target_tensor_test = train_test_split(input_tensor_val, target_tensor_val, test_size=0.5)\n",
    "\n",
    "# Show length\n",
    "len(input_tensor_train), len(target_tensor_train), len(input_tensor_val), len(target_tensor_val), len(input_tensor_test), len(target_tensor_test)"
   ]
  },
  {
   "cell_type": "code",
   "execution_count": 24,
   "metadata": {},
   "outputs": [],
   "source": [
    "TRAIN_BUFFER_SIZE = len(input_tensor_train)\n",
    "VAL_BUFFER_SIZE = len(input_tensor_val)\n",
    "TEST_BUFFER_SIZE = len(input_tensor_test)\n",
    "BATCH_SIZE = 64\n",
    "TRAIN_N_BATCH = TRAIN_BUFFER_SIZE // BATCH_SIZE\n",
    "VAL_N_BATCH = VAL_BUFFER_SIZE // BATCH_SIZE\n",
    "TEST_N_BATCH = TEST_BUFFER_SIZE // BATCH_SIZE\n",
    "\n",
    "embedding_dim = 256\n",
    "units = 1024\n",
    "vocab_inp_size = len(inputs.word2idx)\n",
    "target_size = num_emotions"
   ]
  },
  {
   "cell_type": "code",
   "execution_count": 25,
   "metadata": {},
   "outputs": [],
   "source": [
    "from torch.utils.data import Dataset, DataLoader"
   ]
  },
  {
   "cell_type": "code",
   "execution_count": 26,
   "metadata": {},
   "outputs": [],
   "source": [
    "# convert the data to tensors and pass to the Dataloader \n",
    "# to create an batch iterator\n",
    "\n",
    "class MyData(Dataset):\n",
    "    def __init__(self, X, y):\n",
    "        self.data = X\n",
    "        self.target = y\n",
    "        self.length = [ np.sum(1 - np.equal(x, 0)) for x in X]\n",
    "        \n",
    "    def __getitem__(self, index):\n",
    "        x = self.data[index]\n",
    "        y = self.target[index]\n",
    "        x_len = self.length[index]\n",
    "        return x, y, x_len\n",
    "    \n",
    "    def __len__(self):\n",
    "        return len(self.data)"
   ]
  },
  {
   "cell_type": "code",
   "execution_count": 27,
   "metadata": {},
   "outputs": [],
   "source": [
    "train_dataset = MyData(input_tensor_train, target_tensor_train)\n",
    "val_dataset = MyData(input_tensor_val, target_tensor_val)\n",
    "test_dataset = MyData(input_tensor_test, target_tensor_test)\n",
    "\n",
    "train_dataset = DataLoader(train_dataset, batch_size = BATCH_SIZE, \n",
    "                     drop_last=True,\n",
    "                     shuffle=True)\n",
    "val_dataset = DataLoader(val_dataset, batch_size = BATCH_SIZE, \n",
    "                     drop_last=True,\n",
    "                     shuffle=True)\n",
    "test_dataset = DataLoader(test_dataset, batch_size = BATCH_SIZE, \n",
    "                     drop_last=True,\n",
    "                     shuffle=True)"
   ]
  },
  {
   "cell_type": "code",
   "execution_count": 28,
   "metadata": {},
   "outputs": [
    {
     "data": {
      "text/plain": [
       "64"
      ]
     },
     "execution_count": 28,
     "metadata": {},
     "output_type": "execute_result"
    }
   ],
   "source": [
    "val_dataset.batch_size"
   ]
  },
  {
   "cell_type": "code",
   "execution_count": 29,
   "metadata": {},
   "outputs": [],
   "source": [
    "class EmoGRU(nn.Module):\n",
    "    def __init__(self, vocab_size, embedding_dim, hidden_units, batch_sz, output_size):\n",
    "        super(EmoGRU, self).__init__()\n",
    "        self.batch_sz = batch_sz\n",
    "        self.hidden_units = hidden_units\n",
    "        self.embedding_dim = embedding_dim\n",
    "        self.vocab_size = vocab_size\n",
    "        self.output_size = output_size\n",
    "        \n",
    "        # layers\n",
    "        self.embedding = nn.Embedding(self.vocab_size, self.embedding_dim)\n",
    "        self.dropout = nn.Dropout(p=0.5)\n",
    "        self.gru = nn.GRU(self.embedding_dim, self.hidden_units)\n",
    "        self.fc = nn.Linear(self.hidden_units, self.output_size)\n",
    "    \n",
    "    def initialize_hidden_state(self, device):\n",
    "        return torch.zeros((1, self.batch_sz, self.hidden_units)).to(device)\n",
    "    \n",
    "    def forward(self, x, lens, device):\n",
    "        x = self.embedding(x)\n",
    "        self.hidden = self.initialize_hidden_state(device)\n",
    "        output, self.hidden = self.gru(x, self.hidden) # max_len X batch_size X hidden_units\n",
    "        out = output[-1, :, :] \n",
    "        out = self.dropout(out)\n",
    "        out = self.fc(out)\n",
    "        return out, self.hidden  "
   ]
  },
  {
   "cell_type": "code",
   "execution_count": 30,
   "metadata": {},
   "outputs": [],
   "source": [
    "### sort batch function to be able to use with pad_packed_sequence\n",
    "def sort_batch(X, y, lengths):\n",
    "    lengths, indx = lengths.sort(dim=0, descending=True)\n",
    "    X = X[indx]\n",
    "    y = y[indx]\n",
    "    return X.transpose(0,1), y, lengths # transpose (batch x seq) to (seq x batch)"
   ]
  },
  {
   "cell_type": "code",
   "execution_count": 31,
   "metadata": {},
   "outputs": [
    {
     "name": "stdout",
     "output_type": "stream",
     "text": [
      "Input size:  torch.Size([67, 64])\n",
      "torch.Size([64, 6])\n"
     ]
    }
   ],
   "source": [
    "device = torch.device(\"cuda:0\" if torch.cuda.is_available() else \"cpu\")\n",
    "model = EmoGRU(vocab_inp_size, embedding_dim, units, BATCH_SIZE, target_size)\n",
    "model.to(device)\n",
    "\n",
    "# obtain one sample from the data iterator\n",
    "it = iter(train_dataset)\n",
    "x, y, x_len = next(it)\n",
    "\n",
    "# sort the batch first to be able to use with pac_pack sequence\n",
    "xs, ys, lens = sort_batch(x, y, x_len)\n",
    "\n",
    "print(\"Input size: \", xs.size())\n",
    "\n",
    "output, _ = model(xs.to(device), lens, device)\n",
    "print(output.size())"
   ]
  },
  {
   "cell_type": "code",
   "execution_count": 32,
   "metadata": {},
   "outputs": [],
   "source": [
    "### Enabling cuda\n",
    "use_cuda = True if torch.cuda.is_available() else False\n",
    "device = torch.device(\"cuda\" if use_cuda else \"cpu\")\n",
    "model = EmoGRU(vocab_inp_size, embedding_dim, units, BATCH_SIZE, target_size)\n",
    "model.to(device)\n",
    "\n",
    "### loss criterion and optimizer for training\n",
    "criterion = nn.CrossEntropyLoss() # the same as log_softmax + NLLLoss\n",
    "optimizer = torch.optim.Adam(model.parameters())\n",
    "\n",
    "def loss_function(y, prediction):\n",
    "    \"\"\" CrossEntropyLoss expects outputs and class indices as target \"\"\"\n",
    "    # convert from one-hot encoding to class indices\n",
    "    target = torch.max(y, 1)[1]\n",
    "    loss = criterion(prediction, target) \n",
    "    return loss   #TODO: refer the parameter of these functions as the same\n",
    "    \n",
    "def accuracy(target, logit):\n",
    "    ''' Obtain accuracy for training round '''\n",
    "    target = torch.max(target, 1)[1] # convert from one-hot encoding to class indices\n",
    "    corrects = (torch.max(logit, 1)[1].data == target).sum()\n",
    "    accuracy = 100.0 * corrects / len(logit)\n",
    "    return accuracy"
   ]
  },
  {
   "cell_type": "code",
   "execution_count": 33,
   "metadata": {},
   "outputs": [
    {
     "name": "stdout",
     "output_type": "stream",
     "text": [
      "Epoch 1 Batch 0 Val. Loss 0.3033\n",
      "Epoch 1 Batch 100 Val. Loss 0.2370\n",
      "Epoch 1 Batch 200 Val. Loss 0.2186\n",
      "Epoch 1 Batch 300 Val. Loss 0.1242\n",
      "Epoch 1 Batch 400 Val. Loss 0.0563\n",
      "Epoch 1 Batch 500 Val. Loss 0.0461\n",
      "Epoch 1 Batch 600 Val. Loss 0.0286\n"
     ]
    },
    {
     "ename": "KeyboardInterrupt",
     "evalue": "",
     "output_type": "error",
     "traceback": [
      "\u001b[0;31m---------------------------------------------------------------------------\u001b[0m",
      "\u001b[0;31mKeyboardInterrupt\u001b[0m                         Traceback (most recent call last)",
      "\u001b[0;32m<ipython-input-33-f73ba34a4c7a>\u001b[0m in \u001b[0;36m<module>\u001b[0;34m\u001b[0m\n\u001b[1;32m     19\u001b[0m \u001b[0;34m\u001b[0m\u001b[0m\n\u001b[1;32m     20\u001b[0m         \u001b[0moptimizer\u001b[0m\u001b[0;34m.\u001b[0m\u001b[0mzero_grad\u001b[0m\u001b[0;34m(\u001b[0m\u001b[0;34m)\u001b[0m\u001b[0;34m\u001b[0m\u001b[0m\n\u001b[0;32m---> 21\u001b[0;31m         \u001b[0mloss\u001b[0m\u001b[0;34m.\u001b[0m\u001b[0mbackward\u001b[0m\u001b[0;34m(\u001b[0m\u001b[0;34m)\u001b[0m\u001b[0;34m\u001b[0m\u001b[0m\n\u001b[0m\u001b[1;32m     22\u001b[0m         \u001b[0moptimizer\u001b[0m\u001b[0;34m.\u001b[0m\u001b[0mstep\u001b[0m\u001b[0;34m(\u001b[0m\u001b[0;34m)\u001b[0m\u001b[0;34m\u001b[0m\u001b[0m\n\u001b[1;32m     23\u001b[0m \u001b[0;34m\u001b[0m\u001b[0m\n",
      "\u001b[0;32m/Library/Frameworks/Python.framework/Versions/3.7/lib/python3.7/site-packages/torch/tensor.py\u001b[0m in \u001b[0;36mbackward\u001b[0;34m(self, gradient, retain_graph, create_graph)\u001b[0m\n\u001b[1;32m    196\u001b[0m                 \u001b[0mproducts\u001b[0m\u001b[0;34m.\u001b[0m \u001b[0mDefaults\u001b[0m \u001b[0mto\u001b[0m\u001b[0;31m \u001b[0m\u001b[0;31m`\u001b[0m\u001b[0;31m`\u001b[0m\u001b[0;32mFalse\u001b[0m\u001b[0;31m`\u001b[0m\u001b[0;31m`\u001b[0m\u001b[0;34m.\u001b[0m\u001b[0;34m\u001b[0m\u001b[0m\n\u001b[1;32m    197\u001b[0m         \"\"\"\n\u001b[0;32m--> 198\u001b[0;31m         \u001b[0mtorch\u001b[0m\u001b[0;34m.\u001b[0m\u001b[0mautograd\u001b[0m\u001b[0;34m.\u001b[0m\u001b[0mbackward\u001b[0m\u001b[0;34m(\u001b[0m\u001b[0mself\u001b[0m\u001b[0;34m,\u001b[0m \u001b[0mgradient\u001b[0m\u001b[0;34m,\u001b[0m \u001b[0mretain_graph\u001b[0m\u001b[0;34m,\u001b[0m \u001b[0mcreate_graph\u001b[0m\u001b[0;34m)\u001b[0m\u001b[0;34m\u001b[0m\u001b[0m\n\u001b[0m\u001b[1;32m    199\u001b[0m \u001b[0;34m\u001b[0m\u001b[0m\n\u001b[1;32m    200\u001b[0m     \u001b[0;32mdef\u001b[0m \u001b[0mregister_hook\u001b[0m\u001b[0;34m(\u001b[0m\u001b[0mself\u001b[0m\u001b[0;34m,\u001b[0m \u001b[0mhook\u001b[0m\u001b[0;34m)\u001b[0m\u001b[0;34m:\u001b[0m\u001b[0;34m\u001b[0m\u001b[0m\n",
      "\u001b[0;32m/Library/Frameworks/Python.framework/Versions/3.7/lib/python3.7/site-packages/torch/autograd/__init__.py\u001b[0m in \u001b[0;36mbackward\u001b[0;34m(tensors, grad_tensors, retain_graph, create_graph, grad_variables)\u001b[0m\n\u001b[1;32m     98\u001b[0m     Variable._execution_engine.run_backward(\n\u001b[1;32m     99\u001b[0m         \u001b[0mtensors\u001b[0m\u001b[0;34m,\u001b[0m \u001b[0mgrad_tensors\u001b[0m\u001b[0;34m,\u001b[0m \u001b[0mretain_graph\u001b[0m\u001b[0;34m,\u001b[0m \u001b[0mcreate_graph\u001b[0m\u001b[0;34m,\u001b[0m\u001b[0;34m\u001b[0m\u001b[0m\n\u001b[0;32m--> 100\u001b[0;31m         allow_unreachable=True)  # allow_unreachable flag\n\u001b[0m\u001b[1;32m    101\u001b[0m \u001b[0;34m\u001b[0m\u001b[0m\n\u001b[1;32m    102\u001b[0m \u001b[0;34m\u001b[0m\u001b[0m\n",
      "\u001b[0;31mKeyboardInterrupt\u001b[0m: "
     ]
    }
   ],
   "source": [
    "EPOCHS = 10\n",
    "\n",
    "for epoch in range(EPOCHS):\n",
    "    start = time.time()\n",
    "    \n",
    "    ### Initialize hidden state\n",
    "    # TODO: do initialization here.\n",
    "    total_loss = 0\n",
    "    train_accuracy, val_accuracy = 0, 0\n",
    "    \n",
    "    ### Training\n",
    "    for (batch, (inp, targ, lens)) in enumerate(train_dataset):\n",
    "        loss = 0\n",
    "        predictions, _ = model(inp.permute(1 ,0).to(device), lens, device) # TODO:don't need _   \n",
    "              \n",
    "        loss += loss_function(targ.to(device), predictions)\n",
    "        batch_loss = (loss / int(targ.shape[1]))        \n",
    "        total_loss += batch_loss\n",
    "        \n",
    "        optimizer.zero_grad()\n",
    "        loss.backward()\n",
    "        optimizer.step()\n",
    "        \n",
    "        batch_accuracy = accuracy(targ.to(device), predictions)\n",
    "        train_accuracy += batch_accuracy\n",
    "        \n",
    "        if batch % 100 == 0:\n",
    "            print('Epoch {} Batch {} Val. Loss {:.4f}'.format(epoch + 1,\n",
    "                                                         batch,\n",
    "                                                         batch_loss.cpu().detach().numpy()))\n",
    "            \n",
    "    ### Validating\n",
    "    for (batch, (inp, targ, lens)) in enumerate(val_dataset):        \n",
    "        predictions,_ = model(inp.permute(1, 0).to(device), lens, device)        \n",
    "        batch_accuracy = accuracy(targ.to(device), predictions)\n",
    "        val_accuracy += batch_accuracy\n",
    "    \n",
    "    print('Epoch {} Loss {:.4f} -- Train Acc. {:.4f} -- Val Acc. {:.4f}'.format(epoch + 1, \n",
    "                                                             total_loss / TRAIN_N_BATCH, \n",
    "                                                             train_accuracy / TRAIN_N_BATCH,\n",
    "                                                             val_accuracy / VAL_N_BATCH))\n",
    "    print('Time taken for {} epoch {} sec\\n'.format(epoch, time.time() - start))"
   ]
  },
  {
   "cell_type": "code",
   "execution_count": 65,
   "metadata": {},
   "outputs": [
    {
     "data": {
      "text/plain": [
       "<bound method Module.parameters of EmoGRU(\n",
       "  (embedding): Embedding(27320, 256)\n",
       "  (dropout): Dropout(p=0.5, inplace=False)\n",
       "  (gru): GRU(256, 1024)\n",
       "  (fc): Linear(in_features=1024, out_features=6, bias=True)\n",
       ")>"
      ]
     },
     "execution_count": 65,
     "metadata": {},
     "output_type": "execute_result"
    }
   ],
   "source": [
    "model.parameters"
   ]
  },
  {
   "cell_type": "code",
   "execution_count": 150,
   "metadata": {},
   "outputs": [
    {
     "data": {
      "text/plain": [
       "(50000, 50000)"
      ]
     },
     "execution_count": 150,
     "metadata": {},
     "output_type": "execute_result"
    }
   ],
   "source": [
    "len(input_tensor), len(target_tensor)"
   ]
  },
  {
   "cell_type": "code",
   "execution_count": 159,
   "metadata": {},
   "outputs": [],
   "source": [
    "# retain only text that contain less that 70 tokens to avoid too much padding\n",
    "df[\"token_size\"] = df[\"text\"].apply(lambda x: len(x.split(' ')))\n",
    "df = df.loc[df['token_size'] < 70].copy()\n",
    "\n",
    "# sampling\n",
    "df = df.sample(n=50000);\n",
    "\n",
    "# construct vocab and indexing\n",
    "fullInputs = ConstructVocab(df[\"text\"].values.tolist())\n",
    "\n",
    "full_input_tensor = [[fullInputs.word2idx[s] for s in es.split(' ')]  for es in df[\"text\"].values.tolist()]\n",
    "\n",
    "full_max_length_inp = max_length(full_input_tensor)\n",
    "\n",
    "in_ten = [pad_sequences(x, full_max_length_inp) for x in full_input_tensor]\n",
    "\n",
    "input_tensor_train, input_tensor_val, target_tensor_train, target_tensor_val = train_test_split(in_ten, target_tensor, test_size=0.1)\n"
   ]
  },
  {
   "cell_type": "code",
   "execution_count": 148,
   "metadata": {},
   "outputs": [
    {
     "data": {
      "text/plain": [
       "(40000, 10000, 40000, 10000)"
      ]
     },
     "execution_count": 148,
     "metadata": {},
     "output_type": "execute_result"
    }
   ],
   "source": []
  },
  {
   "cell_type": "code",
   "execution_count": 91,
   "metadata": {},
   "outputs": [
    {
     "data": {
      "text/html": [
       "<div>\n",
       "<style scoped>\n",
       "    .dataframe tbody tr th:only-of-type {\n",
       "        vertical-align: middle;\n",
       "    }\n",
       "\n",
       "    .dataframe tbody tr th {\n",
       "        vertical-align: top;\n",
       "    }\n",
       "\n",
       "    .dataframe thead th {\n",
       "        text-align: right;\n",
       "    }\n",
       "</style>\n",
       "<table border=\"1\" class=\"dataframe\">\n",
       "  <thead>\n",
       "    <tr style=\"text-align: right;\">\n",
       "      <th></th>\n",
       "      <th>id</th>\n",
       "      <th>user_id</th>\n",
       "      <th>text</th>\n",
       "      <th>classification</th>\n",
       "      <th>classifier</th>\n",
       "      <th>token_size</th>\n",
       "    </tr>\n",
       "  </thead>\n",
       "  <tbody>\n",
       "    <tr>\n",
       "      <th>660061</th>\n",
       "      <td>2147483647</td>\n",
       "      <td>2147483647</td>\n",
       "      <td>@JPolov I don’t think either extreme has any i...</td>\n",
       "      <td>highly-anonymous</td>\n",
       "      <td>Sherry</td>\n",
       "      <td>14</td>\n",
       "    </tr>\n",
       "    <tr>\n",
       "      <th>398493</th>\n",
       "      <td>2147483647</td>\n",
       "      <td>2147483647</td>\n",
       "      <td>@maxinejiji Bkt ang sakit?:&amp;lt;</td>\n",
       "      <td>somewhat-anonymous</td>\n",
       "      <td>Kasey</td>\n",
       "      <td>4</td>\n",
       "    </tr>\n",
       "  </tbody>\n",
       "</table>\n",
       "</div>"
      ],
      "text/plain": [
       "                id     user_id  \\\n",
       "660061  2147483647  2147483647   \n",
       "398493  2147483647  2147483647   \n",
       "\n",
       "                                                     text      classification  \\\n",
       "660061  @JPolov I don’t think either extreme has any i...    highly-anonymous   \n",
       "398493                    @maxinejiji Bkt ang sakit?:&lt;  somewhat-anonymous   \n",
       "\n",
       "       classifier  token_size  \n",
       "660061     Sherry          14  \n",
       "398493      Kasey           4  "
      ]
     },
     "execution_count": 91,
     "metadata": {},
     "output_type": "execute_result"
    }
   ],
   "source": [
    "df[0:2]"
   ]
  },
  {
   "cell_type": "code",
   "execution_count": 160,
   "metadata": {},
   "outputs": [
    {
     "data": {
      "text/plain": [
       "(781, 45000, 45000)"
      ]
     },
     "execution_count": 160,
     "metadata": {},
     "output_type": "execute_result"
    }
   ],
   "source": [
    "# inplace padding\n",
    "emotion_test = MyData(input_tensor_train, target_tensor_train)\n",
    "emotion_test = DataLoader(input_tensor, batch_size = BATCH_SIZE, \n",
    "                     drop_last=True,\n",
    "                     shuffle=True)\n",
    "\n",
    "emotion_test.batch_size\n",
    "len(emotion_test), len(input_tensor_train), len(target_tensor_train)\n"
   ]
  },
  {
   "cell_type": "code",
   "execution_count": 109,
   "metadata": {},
   "outputs": [],
   "source": [
    "### sort batch function to be able to use with pad_packed_sequence\n",
    "def sort_batch(X, lengths):\n",
    "    lengths, indx = lengths.sort(dim=0, descending=True)\n",
    "    X = X[indx]\n",
    "    return X.transpose(0,1), lengths # transpose (batch x seq) to (seq x batch)"
   ]
  },
  {
   "cell_type": "code",
   "execution_count": 161,
   "metadata": {},
   "outputs": [
    {
     "name": "stdout",
     "output_type": "stream",
     "text": [
      "Anger: 7694\n",
      "Fear: 6136\n",
      "Joy: 15684\n",
      "Love: 4116\n",
      "Sadness: 14505\n",
      "Surprise: 1849\n"
     ]
    }
   ],
   "source": [
    "embedding_dim = 256\n",
    "units = 1024\n",
    "vocab_inp_size = len(fullInputs.word2idx)\n",
    "target_size = num_emotions\n",
    "\n",
    "anger = 0\n",
    "fear = 0\n",
    "joy = 0\n",
    "love = 0\n",
    "sadness = 0\n",
    "surprise = 0\n",
    "\n",
    "for batch in emotion_test:        \n",
    "        predictions,_ = model(batch.permute(1, 0).to(device), lens, device)        \n",
    "        batchVals = torch.max(predictions, 1)[1].data\n",
    "        for a in batchVals:\n",
    "            if a == 0:\n",
    "                anger += 1\n",
    "            if a == 1:\n",
    "                fear += 1\n",
    "            if a == 2:\n",
    "                joy += 1\n",
    "            if a == 3:\n",
    "                love += 1\n",
    "            if a == 4:\n",
    "                sadness += 1\n",
    "            if a == 5:\n",
    "                surprise += 1\n",
    "                \n",
    "print(\"Anger: \" + str(anger))\n",
    "print(\"Fear: \" + str(fear))\n",
    "print(\"Joy: \" + str(joy))\n",
    "print(\"Love: \" + str(love))\n",
    "print(\"Sadness: \" + str(sadness))\n",
    "print(\"Surprise: \" + str(surprise))"
   ]
  },
  {
   "cell_type": "code",
   "execution_count": 166,
   "metadata": {},
   "outputs": [
    {
     "data": {
      "image/png": "[encoded data removed]",
      "text/plain": [
       "<Figure size 640x480 with 1 Axes>"
      ]
     },
     "metadata": {},
     "output_type": "display_data"
    }
   ],
   "source": [
    "import matplotlib.pyplot as plt; plt.rcdefaults()\n",
    "import numpy as np\n",
    "import matplotlib.pyplot as plt\n",
    "\n",
    "objects = ('Anger', 'Fear', 'Joy', 'Love', 'Sadness', 'Surprise')\n",
    "y_pos = np.arange(len(objects))\n",
    "performance = [8759,8106,12652, 6117, 11445, 2905]\n",
    "\n",
    "plt.bar(y_pos, performance, align='center', alpha=0.5)\n",
    "plt.xticks(y_pos, objects)\n",
    "plt.ylabel('Frequency')\n",
    "plt.title('Anonymous Emotion Profile')\n",
    "\n",
    "plt.show()"
   ]
  },
  {
   "cell_type": "markdown",
   "metadata": {},
   "source": [
    "We are now able to evaluate the results of our classification training"
   ]
  },
  {
   "cell_type": "code",
   "execution_count": 64,
   "metadata": {},
   "outputs": [
    {
     "name": "stdout",
     "output_type": "stream",
     "text": [
      "Test Accuracy:  93.0088141025641\n"
     ]
    }
   ],
   "source": [
    "test_accuracy = 0\n",
    "all_predictions = []\n",
    "x_raw = []\n",
    "y_raw = []\n",
    "\n",
    "model.to(\"cpu\")\n",
    "\n",
    "for (batch, (inp, targ, lens)) in enumerate(test_dataset):          \n",
    "    predictions,_ = model(inp.permute(1, 0).to(device), lens, device)        \n",
    "    batch_accuracy = accuracy(targ.to(device), predictions)\n",
    "    test_accuracy += batch_accuracy\n",
    "    \n",
    "    x_raw = x_raw + [x for x in inp]\n",
    "    y_raw = y_raw + [y for y in targ]\n",
    "    \n",
    "    all_predictions.append(predictions)\n",
    "    \n",
    "print(\"Test Accuracy: \", test_accuracy.cpu().detach().numpy() / TEST_N_BATCH)"
   ]
  },
  {
   "cell_type": "markdown",
   "metadata": {},
   "source": [
    "This will create the confusion matrix"
   ]
  },
  {
   "cell_type": "code",
   "execution_count": 60,
   "metadata": {},
   "outputs": [],
   "source": [
    "### Class to Properly Evaluate our Models\n",
    "class Evaluate():\n",
    "\n",
    "    def va_dist(cls, prediction, target, va_df, binarizer, name='', silent=False):\n",
    "        \"\"\" Computes distance between actual and prediction through cosine distance \"\"\"\n",
    "        va_matrix = va_df.loc[binarizer.classes_][['valence','arousal']].values\n",
    "        y_va = target.dot(va_matrix)\n",
    "        F_va = prediction.dot(va_matrix)\n",
    "\n",
    "        # dist is a one row vector with size of the test data passed(emotion)\n",
    "        dist = metrics.pairwise.paired_cosine_distances(y_va, F_va)\n",
    "        res = stats.describe(dist)\n",
    "\n",
    "        # print by default (if silent=False)\n",
    "        if not silent:\n",
    "            print('%s\\tmean: %f\\tvariance: %f' % (name, res.mean, res.variance))\n",
    "\n",
    "        return {\n",
    "            'distances': dist,\n",
    "            'dist_stat': res\n",
    "        }\n",
    "\n",
    "    def evaluate_class(cls, predictions, target, target2=None, silent=False):\n",
    "        \"\"\" Compute only the predicted class \"\"\"\n",
    "        p_2_annotation = dict()\n",
    "\n",
    "        precision_recall_fscore_support = [\n",
    "            (pair[0], pair[1].mean()) for pair in zip(\n",
    "                ['precision', 'recall', 'f1', 'support'],\n",
    "                metrics.precision_recall_fscore_support(target, predictions)\n",
    "            )\n",
    "        ]\n",
    "\n",
    "        metrics.precision_recall_fscore_support(target, predictions)\n",
    "\n",
    "        # confusion matrix\n",
    "        le = LabelEncoder()\n",
    "        target_le = le.fit_transform(target)\n",
    "        predictions_le = le.transform(predictions)\n",
    "        cm = metrics.confusion_matrix(target_le, predictions_le)\n",
    "\n",
    "        # prediction if two annotations are given on test data\n",
    "        if target2:\n",
    "            p_2_annotation = pd.DataFrame(\n",
    "                [(pred, pred in set([t1,t2])) for pred, t1, t2 in zip(predictions, target, target2)],\n",
    "                columns=['emo','success']\n",
    "            ).groupby('emo').apply(lambda emo: emo.success.sum()/ len(emo.success)).to_dict()\n",
    "\n",
    "        if not silent:\n",
    "            print(\"Default Classification report\")\n",
    "            print(metrics.classification_report(target, predictions))\n",
    "\n",
    "            # print if target2 was provided\n",
    "            if len(p_2_annotation) > 0:\n",
    "                print('\\nPrecision on 2 annotations:')\n",
    "                for emo in p_2_annotation:\n",
    "                    print(\"%s: %.2f\" % (emo, p_2_annotation[emo]))\n",
    "\n",
    "            # print accuracies, precision, recall, and f1\n",
    "            print('\\nAccuracy:')\n",
    "            print(metrics.accuracy_score(target, predictions))\n",
    "            print(\"Correct Predictions: \", metrics.accuracy_score(target, predictions,normalize=False))\n",
    "            for to_print in precision_recall_fscore_support[:3]:\n",
    "                print( \"%s: %.2f\" % to_print )\n",
    "\n",
    "            # normalizing the values of the consfusion matrix\n",
    "            print('\\nconfusion matrix\\n %s' % cm)\n",
    "            print('(row=expected, col=predicted)')\n",
    "            cm_normalized = cm.astype('float') / cm.sum(axis=1)[:, np.newaxis]\n",
    "            cls.plot_confusion_matrix(cm_normalized, le.classes_, 'Confusion matrix Normalized')\n",
    "\n",
    "        return {\n",
    "            'precision_recall_fscore_support': precision_recall_fscore_support,\n",
    "            'accuracy': metrics.accuracy_score(target, predictions),\n",
    "            'p_2_annotation': p_2_annotation,\n",
    "            'confusion_matrix': cm\n",
    "        }\n",
    "\n",
    "    def predict_class(cls, X_train, y_train, X_test, y_test,\n",
    "                      pipeline, silent=False, target2=None):\n",
    "        \"\"\" Predicted class,then run some performance evaluation \"\"\"\n",
    "        pipeline.fit(X_train, y_train)\n",
    "        predictions = pipeline.predict(X_test)\n",
    "        print(\"predictions computed....\")\n",
    "        return cls.evaluate_class(predictions, y_test, target2, silent)\n",
    "\n",
    "    def evaluate_prob(cls, prediction, target_rank, target_class, binarizer, va_df, silent=False, target2=None):\n",
    "        \"\"\" Evaluate through probability \"\"\"\n",
    "        # Run normal class evaluator\n",
    "        predict_class = binarizer.classes_[prediction.argmax(axis=1)]\n",
    "        class_eval = cls.evaluate_class(predict_class, target_class, target2, silent)\n",
    "\n",
    "        if not silent:\n",
    "            print('\\n - First Emotion Classification Metrics -')\n",
    "            print('\\n - Multiple Emotion rank Metrics -')\n",
    "            print('VA Cosine Distance')\n",
    "\n",
    "        classes_dist = [\n",
    "            (\n",
    "                emo,\n",
    "                cls.va_dist(\n",
    "                    prediction[np.array(target_class) == emo],\n",
    "                    target_rank[np.array(target_class) == emo],\n",
    "                    va_df,\n",
    "                    binarizer,\n",
    "                    emo,\n",
    "                    silent)\n",
    "                ) for emo in binarizer.classes_\n",
    "        ]\n",
    "        avg_dist = cls.va_dist(prediction, target_rank, va_df, binarizer, 'avg', silent)\n",
    "\n",
    "        coverage_error = metrics.coverage_error(target_rank, prediction)\n",
    "        average_precision_score = metrics.average_precision_score(target_rank, prediction)\n",
    "        label_ranking_average_precision_score = metrics.label_ranking_average_precision_score(target_rank, prediction)\n",
    "        label_ranking_loss = metrics.label_ranking_loss(target_rank, prediction)\n",
    "\n",
    "        # recall at 2\n",
    "        # obtain top two predictions\n",
    "        top2_pred = [set([binarizer.classes_[i[0]], binarizer.classes_[i[1]]]) for i in (prediction.argsort(axis=1).T[-2:].T)]\n",
    "        recall_at_2 = pd.DataFrame(\n",
    "            [\n",
    "            t in p for t, p in zip(target_class, top2_pred)\n",
    "            ], index=target_class, columns=['recall@2']).groupby(level=0).apply(lambda emo: emo.sum()/len(emo))\n",
    "\n",
    "        # combine target into sets\n",
    "        if target2:\n",
    "            union_target = [set(t) for t in zip(target_class, target2)]\n",
    "        else:\n",
    "            union_target = [set(t) for t in zip(target_class)]\n",
    "\n",
    "        # precision at k\n",
    "        top_k_pred = [\n",
    "            [set([binarizer.classes_[i] for i in i_list]) for i_list in (prediction.argsort(axis=1).T[-i:].T)]\n",
    "            for i in range(2, len(binarizer.classes_)+1)]\n",
    "        precision_at_k = [\n",
    "            ('p@' + str(k+2), np.array([len(t & p)/(k+2) for t, p in zip(union_target, top_k_pred[k])]).mean())\n",
    "            for k in range(len(top_k_pred))]\n",
    "\n",
    "        # do this if silent= False\n",
    "        if not silent:\n",
    "            print('\\n')\n",
    "            print(recall_at_2)\n",
    "            print('\\n')\n",
    "            print('p@k')\n",
    "            for pk in precision_at_k:\n",
    "                print(pk[0] + ':\\t' + str(pk[1]))\n",
    "            print('\\ncoverage_error: %f' % coverage_error)\n",
    "            print('average_precision_score: %f' % average_precision_score)\n",
    "            print('label_ranking_average_precision_score: %f' % label_ranking_average_precision_score)\n",
    "            print('label_ranking_loss: %f' % label_ranking_loss)\n",
    "\n",
    "        return {\n",
    "            'class_eval': class_eval,\n",
    "            'recall_at_2': recall_at_2.to_dict(),\n",
    "            'precision_at_2': precision_at_k,\n",
    "            'classes_dist': classes_dist,\n",
    "            'avg_dist': avg_dist,\n",
    "            'coverage_error': coverage_error,\n",
    "            'average_precision_score': average_precision_score,\n",
    "            'label_ranking_average_precision_score': label_ranking_average_precision_score,\n",
    "            'label_ranking_loss': label_ranking_loss\n",
    "        }\n",
    "\n",
    "\n",
    "    def predict_prob(cls, X_train, y_train, X_test, y_test, label_test, pipeline, binarizer, va_df, silent=False, target2=None):\n",
    "        \"\"\" Output predcations based on training and labels \"\"\"\n",
    "        pipeline.fit(X_train, y_train)\n",
    "        predictions = pipeline.predict_proba(X_test)\n",
    "        pred_to_mlb = [np.where(pipeline.classes_ == emo)[0][0] for emo in binarizer.classes_.tolist()]\n",
    "        return cls.evaluate_prob(predictions[:,pred_to_mlb], y_test, label_test, binarizer, va_df, silent, target2)\n",
    "\n",
    "\n",
    "    def plot_confusion_matrix(cls, cm, my_tags, title='Confusion matrix', cmap=plt.cm.Blues):\n",
    "        \"\"\" Plotting the confusion_matrix\"\"\"\n",
    "        plt.rc('figure', figsize=(4, 4), dpi=100)\n",
    "        plt.imshow(cm, interpolation='nearest', cmap=cmap)\n",
    "        plt.title(title)\n",
    "        plt.colorbar()\n",
    "        tick_marks = np.arange(len(my_tags))\n",
    "        target_names = my_tags\n",
    "        plt.xticks(tick_marks, target_names, rotation=45)\n",
    "        plt.yticks(tick_marks, target_names)\n",
    "        \n",
    "        # add normalized values inside the Confusion matrix\n",
    "        fmt = '.2f'\n",
    "        thresh = cm.max() / 2.\n",
    "        for i, j in itertools.product(range(cm.shape[0]), range(cm.shape[1])):\n",
    "            plt.text(j, i, format(cm[i, j], fmt), horizontalalignment=\"center\", color=\"white\" if cm[i, j] > thresh else \"black\")\n",
    "\n",
    "        plt.tight_layout()\n",
    "        plt.ylabel('True label')\n",
    "        plt.xlabel('Predicted label')"
   ]
  },
  {
   "cell_type": "code",
   "execution_count": 141,
   "metadata": {},
   "outputs": [
    {
     "name": "stdout",
     "output_type": "stream",
     "text": [
      "[3, 2, 2, 1, 4, 2, 3, 2, 4, 5, 5, 0, 2, 1, 3, 2, 2, 2, 2, 4, 4, 2, 2, 4, 0, 2, 0, 4, 4, 4, 3, 5, 0, 2, 4, 0, 2, 2, 3, 4, 4, 2, 0, 3, 4, 4, 4, 2, 0, 3, 2, 3, 4, 4, 2, 1, 4, 4, 2, 4, 1, 2, 3, 2, 2, 2, 2, 4, 1, 2, 4, 0, 4, 4, 2, 3, 1, 0, 0, 2, 0, 2, 2, 4, 3, 4, 2, 2, 4, 2, 3, 4, 4, 3, 2, 0, 4, 2, 3, 4, 5, 5, 4, 2, 4, 4, 2, 4, 3, 0, 0, 4, 4, 2, 2, 2, 2, 0, 3, 4, 2, 5, 2, 2, 4, 2, 4, 2, 0, 2, 2, 4, 4, 0, 2, 4, 3, 4, 2, 4, 4, 2, 1, 4, 5, 4, 2, 4, 3, 3, 1, 4, 3, 2, 4, 3, 0, 4, 2, 2, 4, 4, 3, 3, 1, 3, 1, 4, 0, 4, 1, 2, 0, 4, 2, 4, 4, 5, 5, 2, 0, 4, 0, 4, 2, 3, 4, 4, 1, 4, 1, 4, 5, 2, 2, 0, 0, 2, 2, 3, 3, 4, 2, 0, 2, 3, 2, 1, 3, 0, 2, 4, 0, 4, 0, 2, 1, 0, 0, 1, 4, 4, 1, 4, 4, 1, 4, 2, 2, 2, 2, 0, 2, 2, 2, 2, 4, 0, 2, 2, 2, 2, 4, 1, 3, 1, 2, 2, 4, 4, 2, 2, 1, 2, 2, 2, 0, 4, 2, 1, 2, 3, 2, 4, 2, 2, 2, 4, 1, 1, 3, 1, 3, 2, 2, 2, 2, 4, 4, 3, 4, 1, 1, 4, 2, 2, 2, 2, 0, 2, 4, 2, 0, 0, 2, 4, 2, 2, 2, 4, 5, 2, 2, 2, 4, 0, 2, 1, 4, 3, 1, 4, 2, 2, 4, 2, 1, 2, 1, 4, 1, 4, 4, 1, 2, 4, 3, 3, 4, 5, 2, 2, 2, 2, 1, 4, 4, 5, 4, 1, 3, 0, 2, 2, 3, 2, 2, 2, 3, 4, 5, 4, 1, 2, 2, 2, 1, 5, 4, 0, 3, 1, 1, 2, 2, 4, 4, 0, 2, 1, 3, 1, 3, 1, 4, 3, 4, 2, 4, 1, 2, 1, 0, 0, 3, 2, 4, 2, 4, 4, 5, 2, 2, 4, 2, 4, 4, 2, 1, 2, 4, 2, 4, 2, 1, 4, 2, 3, 4, 2, 0, 0, 5, 2, 2, 2, 0, 2, 0, 1, 1, 0, 0, 5, 2, 1, 2, 4, 1, 2, 2, 4, 4, 2, 4, 2, 4, 4, 5, 5, 1, 0, 0, 2, 0, 4, 1, 2, 4, 2, 2, 4, 2, 4, 3, 3, 4, 2, 4, 0, 0, 2, 2, 0, 2, 4, 2, 2, 4, 4, 2, 1, 2, 2, 4, 2, 1, 0, 5, 2, 2, 2, 2, 1, 3, 1, 2, 2, 3, 2, 0, 1, 2, 2, 0, 5, 3, 4, 4, 1, 0, 4, 4, 2, 2, 4, 5, 4, 2, 2, 0, 4, 4, 4, 0, 2, 5, 2, 1, 2, 2, 4, 4, 5, 4, 2, 4, 2, 3, 4, 4, 0, 3, 4, 2, 3, 2, 4, 2, 1, 2, 5, 4, 2, 0, 1, 4, 4, 5, 5, 4, 2, 2, 2, 1, 0, 4, 4, 0, 2, 2, 1, 5, 4, 3, 4, 1, 1, 3, 0, 0, 4, 1, 4, 2, 1, 0, 4, 2, 2, 4, 0, 0, 4, 2, 4, 2, 1, 4, 1, 2, 1, 0, 4, 4, 0, 2, 1, 4, 0, 3, 2, 3, 2, 4, 2, 2, 3, 4, 4, 0, 4, 0, 0, 4, 3, 4, 1, 2, 0, 4, 2, 2, 1, 4, 2, 2, 1, 4, 4, 1, 1, 4, 1, 4, 4, 0, 4, 1, 2, 2, 4, 5, 4, 2, 1, 2, 0, 4, 2, 0, 4, 0, 0, 4, 5, 2, 3, 2, 1, 3, 2, 2, 0, 3, 0, 0, 0, 2, 3, 2, 2, 5, 2, 4, 2, 0, 4, 2, 1, 4, 0, 2, 4, 0, 2, 5, 4, 5, 4, 1, 4, 4, 2, 3, 0, 4, 0, 1, 2, 2, 2, 2, 0, 1, 2, 4, 0, 2, 1, 4, 2, 2, 0, 4, 4, 4, 0, 4, 4, 4, 0, 2, 5, 4, 0, 2, 4, 0, 3, 2, 2, 0, 4, 0, 2, 1, 0, 2, 4, 4, 2, 2, 2, 0, 4, 2, 1, 4, 4, 3, 4, 2, 4, 4, 4, 2, 5, 1, 3, 4, 2, 4, 0, 3, 4, 2, 2, 4, 4, 4, 2, 0, 1, 2, 0, 2, 4, 2, 2, 4, 2, 4, 2, 3, 2, 2, 4, 2, 4, 0, 2, 4, 4, 4, 2, 4, 2, 3, 0, 2, 0, 2, 3, 2, 3, 3, 1, 3, 2, 1, 4, 2, 4, 2, 0, 2, 4, 4, 1, 3, 5, 2, 4, 2, 1, 2, 2, 0, 3, 1, 1, 0, 4, 4, 1, 2, 0, 2, 0, 0, 2, 2, 2, 5, 4, 4, 3, 3, 4, 2, 3, 4, 4, 2, 2, 2, 5, 3, 0, 2, 2, 2, 0, 3, 1, 3, 3, 4, 4, 4, 2, 2, 4, 1, 2, 4, 2, 3, 3, 1, 1, 2, 1, 2, 4, 4, 2, 2, 2, 1, 2, 2, 2, 4, 5, 1, 2, 4, 2, 2, 2, 4, 2, 2, 2, 1, 2, 4, 2, 0, 2, 2, 1, 2, 2, 1, 4, 2, 4, 0, 2, 2, 2, 2, 1, 4, 2, 1, 2, 5, 0, 0, 2, 2, 0, 4, 5, 2, 1, 0, 2, 0, 4, 0, 0, 4, 0, 2, 1, 5, 2, 2, 4, 0, 2, 4, 4, 2, 0, 1, 2, 1, 4, 0, 2, 2, 2, 2, 2, 1, 4, 3, 2, 2, 0, 4, 3, 4, 2, 4, 4, 4, 3, 2, 1, 2, 2, 3, 2, 1, 2, 4, 4, 2, 0, 0, 2, 1, 3, 4, 4, 3, 4, 2, 0, 2, 0, 2, 2, 2, 2, 2, 0, 0, 3, 0, 0, 2, 0, 2, 3, 4, 4, 1, 2, 4, 3, 1, 0, 3, 4, 1, 4, 0, 4, 0, 2, 1, 2, 2, 4, 1, 2, 1, 4, 2, 2, 4, 2, 4, 3, 2, 4, 2, 1, 2, 4, 1, 4, 4, 4, 4, 3, 2, 4, 2, 0, 3, 2, 2, 2, 0, 0, 3, 2, 2, 0, 1, 5, 2, 1, 1, 4, 0, 2, 4, 4, 5, 0, 2, 4, 1, 1, 3, 2, 2, 0, 2, 3, 2, 0, 1, 2, 1, 0, 5, 4, 2, 0, 2, 1, 2, 2, 1, 2, 4, 0, 2, 3, 1, 0, 4, 4, 2, 4, 0, 2, 0, 2, 2, 4, 2, 0, 3, 2, 4, 2, 0, 4, 4, 4, 4, 3, 4, 2, 5, 4, 2, 0, 2, 3, 3, 2, 4, 2, 2, 4, 2, 4, 4, 2, 0, 4, 0, 2, 5, 2, 4, 2, 4, 3, 2, 2, 2, 2, 0, 2, 0, 3, 1, 4, 0, 4, 1, 4, 3, 3, 2, 4, 2, 2, 3, 2, 4, 1, 4, 4, 2, 1, 4, 1, 1, 3, 2, 4, 0, 2, 1, 4, 1, 4, 3, 4, 4, 4, 2, 5, 4, 4, 4, 3, 2, 2, 4, 2, 2, 4, 2, 1, 4, 2, 2, 4, 4, 2, 5, 0, 4, 4, 4, 4, 0, 0, 3, 4, 2, 2, 0, 2, 2, 2, 2, 0, 3, 4, 4, 4, 2, 2, 2, 2, 4, 2, 1, 3, 4, 3, 2, 0, 4, 2, 4, 2, 0, 2, 3, 2, 4, 4, 2, 0, 1, 2, 0, 4, 1, 4, 2, 2, 1, 2, 4, 4, 4, 1, 4, 2, 4, 0, 2, 4, 2, 2, 2, 4, 5, 2, 2, 2, 2, 2, 1, 5, 5, 0, 2, 0, 2, 4, 4, 0, 2, 4, 2, 4, 2, 3, 2, 4, 2, 0, 2, 1, 4, 4, 2, 2, 2, 2, 0, 2, 1, 4, 2, 4, 4, 4, 2, 4, 1, 2, 4, 1, 2, 4, 4, 2, 4, 1, 0, 4, 0, 4, 4, 1, 4, 2, 0, 2, 3, 0, 4, 0, 1, 0, 4, 2, 2, 3, 1, 2, 4, 3, 0, 3, 4, 3, 0, 4, 2, 4, 0, 2, 2, 1, 4, 3, 2, 1, 1, 3, 3, 4, 4, 0, 1, 2, 0, 0, 2, 2, 2, 0, 5, 0, 4, 2, 4, 3, 2, 2, 2, 4, 1, 4, 0, 4, 2, 2, 2, 2, 5, 5, 2, 4, 4, 1, 4, 4, 4, 2, 4, 2, 2, 4, 1, 4, 1, 4, 3, 4, 5, 2, 1, 4, 2, 1, 2, 1, 3, 2, 2, 4, 2, 4, 4, 2, 4, 4, 5, 2, 2, 4, 1, 4, 2, 5, 5, 2, 2, 5, 3, 2, 4, 0, 2, 2, 2, 5, 4, 1, 3, 1, 0, 4, 2, 4, 4, 3, 3, 4, 3, 4, 2, 4, 4, 0, 4, 2, 0, 0, 1, 2, 4, 4, 1, 0, 4, 4, 2, 0, 0, 0, 5, 2, 2, 2, 5, 1, 4, 2, 0, 4, 2, 1, 2, 1, 0, 4, 2, 2, 0, 2, 2, 2, 2, 4, 4, 1, 5, 5, 4, 0, 2, 2, 4, 4, 2, 4, 2, 2, 4, 0, 2, 3, 2, 2, 2, 2, 4, 1, 1, 4, 2, 5, 4, 4, 0, 4, 2, 4, 4, 4, 2, 0, 2, 4, 2, 2, 4, 2, 2, 2, 3, 0, 2, 4, 1, 1, 2, 2, 2, 4, 2, 4, 4, 2, 1, 0, 4, 2, 2, 3, 0, 3, 4, 2, 4, 0, 2, 1, 1, 5, 0, 2, 4, 3, 4, 3, 2, 4, 0, 2, 4, 4, 1, 2, 2, 4, 4, 2, 5, 4, 1, 5, 4, 0, 1, 4, 2, 1, 4, 4, 0, 2, 3, 2, 2, 1, 4, 2, 2, 2, 2, 4, 5, 2, 0, 0, 4, 0, 3, 2, 2, 4, 2, 4, 0, 4, 2, 4, 0, 3, 0, 4, 4, 2, 0, 2, 1, 0, 4, 0, 2, 2, 0, 2, 2, 2, 4, 4, 2, 1, 4, 4, 5, 4, 3, 4, 3, 2, 2, 2, 0, 4, 4, 1, 2, 3, 2, 4, 2, 4, 0, 4, 3, 4, 4, 4, 2, 3, 4, 5, 2, 0, 4, 5, 2, 4, 1, 3, 5, 0, 2, 2, 1, 0, 2, 0, 0, 2, 0, 2, 0, 0, 2, 0, 4, 4, 4, 2, 1, 2, 2, 3, 2, 2, 0, 2, 3, 4, 4, 2, 2, 5, 3, 2, 4, 2, 2, 4, 2, 4, 0, 4, 2, 2, 4, 0, 0, 0, 5, 2, 2, 4, 2, 4, 1, 2, 4, 2, 4, 2, 2, 2, 2, 2, 3, 2, 3, 3, 1, 3, 3, 4, 0, 2, 0, 1, 4, 2, 0, 3, 5, 2, 2, 4, 4, 0, 4, 2, 4, 2, 4, 3, 3, 2, 2, 3, 2, 3, 2, 4, 1, 2, 4, 4, 4, 1, 0, 2, 2, 0, 2, 4, 1, 3, 0, 0, 2, 4, 2, 1, 2, 2, 4, 2, 0, 2, 2, 4, 2, 4, 2, 1, 1, 1, 1, 2, 0, 0, 4, 2, 4, 2, 2, 3, 4, 4, 2, 2, 2, 4, 0, 2, 4, 1, 2, 2, 3, 0, 2, 0, 2, 4, 2, 1, 2, 4, 1, 0, 4, 4, 2, 1, 4, 1, 0, 2, 2, 4, 5, 1, 1, 2, 2, 4, 0, 0, 1, 4, 4, 3, 1, 4, 4, 2, 4, 4, 0, 2, 2, 2, 2, 0, 1, 4, 4, 2, 3, 3, 4, 2, 4, 2, 2, 2, 0, 2, 2, 1, 2, 4, 0, 5, 1, 1, 4, 2, 2, 0, 4, 0, 2, 1, 4, 4, 0, 4, 4, 2, 2, 1, 0, 2, 2, 4, 3, 4, 2, 4, 2, 4, 2, 2, 4, 4, 4, 4, 3, 2, 2, 4, 2, 0, 4, 2, 0, 2, 1, 1, 3, 4, 2, 2, 4, 1, 1, 1, 4, 5, 3, 4, 2, 0, 3, 3, 2, 4, 2, 2, 2, 2, 3, 2, 2, 4, 1, 2, 1, 2, 2, 1, 1, 0, 4, 2, 2, 2, 2, 0, 4, 2, 4, 0, 0, 1, 4, 2, 1, 1, 2, 5, 2, 0, 4, 2, 2, 2, 2, 3, 3, 3, 2, 0, 4, 1, 5, 1, 5, 1, 0, 4, 3, 2, 4, 1, 2, 4, 4, 1, 1, 1, 2, 2, 0, 3, 3, 2, 2, 0, 0, 4, 2, 4, 2, 3, 4, 4, 5, 0, 4, 2, 3, 4, 2, 2, 4, 2, 4, 4, 2, 2, 4, 2, 0, 4, 2, 0, 2, 2, 4, 2, 0, 4, 1, 2, 1, 2, 3, 4, 3, 2, 2, 0, 0, 4, 2, 3, 2, 4, 2, 2, 4, 2, 0, 2, 2, 2, 1, 0, 2, 3, 3, 2, 5, 2, 4, 2, 4, 3, 0, 1, 1, 2, 3, 2, 2, 5, 5, 3, 2, 2, 2, 2, 4, 2, 0, 3, 4, 2, 2, 4, 0, 2, 2, 2, 4, 2, 0, 4, 4, 4, 4, 2, 4, 2, 2, 2, 3, 4, 3, 2, 1, 2, 2, 0, 2, 2, 4, 1, 4, 0, 4, 5, 4, 4, 4, 4, 2, 4, 1, 4, 2, 4, 0, 4, 2, 2, 4, 1, 2, 2, 2, 2, 2, 4, 1, 2, 0, 3, 2, 1, 4, 2, 2, 2, 2, 0, 1, 1, 2, 1, 4, 2, 2, 2, 2, 0, 2, 0, 4, 3, 2, 0, 4, 2, 3, 2, 0, 2, 4, 4, 2, 2, 2, 2, 2, 2, 4, 1, 4, 1, 1, 4, 2, 1, 3, 4, 1, 4, 2, 0, 2, 4, 2, 4, 2, 4, 2, 1, 4, 4, 4, 3, 2, 3, 1, 2, 2, 2, 4, 1, 4, 4, 1, 4, 1, 4, 2, 4, 2, 0, 4, 2, 2, 4, 2, 2, 0, 0, 1, 2, 4, 4, 2, 4, 2, 0, 4, 2, 2, 4, 4, 2, 2, 2, 4, 3, 2, 4, 2, 2, 3, 2, 2, 0, 2, 1, 4, 2, 1, 1, 2, 2, 2, 2, 2, 3, 2, 2, 4, 2, 2, 4, 1, 2, 3, 4, 1, 1, 2, 2, 4, 2, 2, 1, 2, 1, 4, 3, 4, 4, 2, 1, 2, 4, 4, 0, 4, 4, 1, 2, 4, 4, 2, 4, 2, 0, 4, 2, 4, 1, 1, 4, 2, 1, 5, 0, 2, 4, 4, 4, 2, 4, 1, 2, 1, 2, 0, 2, 0, 4, 0, 3, 5, 4, 4, 0, 1, 2, 2, 2, 4, 4, 4, 4, 0, 3, 2, 4, 0, 4, 3, 1, 4, 4, 1, 2, 2, 2, 4, 2, 2, 2, 1, 2, 2, 4, 2, 1, 4, 2, 1, 2, 4, 4, 4, 3, 4, 2, 4, 0, 0, 0, 2, 0, 2, 1, 2, 1, 2, 4, 0, 1, 4, 5, 4, 2, 4, 1, 2, 0, 0, 0, 3, 4, 2, 4, 1, 2, 2, 3, 2, 2, 2, 3, 0, 1, 1, 2, 4, 3, 3, 4, 3, 1, 4, 4, 4, 0, 1, 2, 4, 2, 2, 2, 4, 2, 2, 4, 4, 4, 1, 2, 4, 2, 4, 3, 4, 2, 2, 2, 4, 0, 4, 0, 4, 2, 0, 4, 2, 0, 2, 1, 2, 4, 1, 1, 4, 2, 4, 1, 4, 2, 0, 1, 2, 4, 2, 2, 0, 0, 2, 1, 4, 4, 4, 2, 4, 4, 4, 2, 4, 2, 4, 2, 4, 2, 4, 3, 2, 2, 2, 1, 2, 2, 4, 0, 4, 0, 2, 3, 4, 2, 2, 2, 3, 2, 0, 4, 0, 1, 0, 0, 0, 2, 1, 2, 0, 2, 0, 4, 2, 2, 2, 2, 4, 2, 2, 2, 0, 4, 0, 2, 4, 4, 4, 2, 2, 2, 4, 4, 2, 2, 2, 2, 4, 1, 0, 3, 5, 0, 2, 4, 3, 4, 1, 2, 4, 2, 0, 4, 4, 4, 0, 2, 1, 4, 2, 4, 2, 2, 1, 2, 4, 2, 2, 1, 1, 2, 4, 0, 2, 2, 0, 2, 5, 2, 4, 2, 2, 0, 0, 2, 4, 5, 2, 2, 2, 4, 5, 2, 2, 2, 1, 0, 1, 4, 1, 0, 4, 0, 4, 2, 0, 2, 4, 4, 4, 1, 0, 1, 4, 0, 3, 4, 2, 4, 1, 4, 0, 1, 2, 0, 0, 2, 2, 4, 1, 0, 0, 4, 4, 0, 0, 2, 4, 2, 3, 2, 2, 1, 2, 2, 4, 1, 2, 2, 4, 4, 2, 2, 2, 4, 3, 2, 1, 4, 2, 4, 5, 0, 4, 2, 0, 4, 2, 2, 4, 4, 2, 0, 0, 2, 4, 4, 4, 1, 0, 3, 5, 3, 2, 4, 0, 2, 2, 2, 5, 3, 3, 2, 2, 4, 0, 0, 3, 2, 5, 0, 1, 0, 1, 3, 3, 0, 3, 0, 2, 0, 4, 2, 0, 2, 4, 0, 4, 2, 3, 1, 1, 1, 2, 2, 4, 5, 0, 2, 2, 4, 2, 4, 4, 2, 1, 2, 3, 4, 2, 2, 4, 2, 0, 4, 2, 4, 3, 2, 2, 0, 4, 4, 0, 4, 1, 4, 3, 2, 1, 4, 1, 4, 0, 1, 4, 4, 1, 2, 1, 1, 4, 2, 2, 2, 4, 0, 4, 2, 2, 0, 2, 1, 4, 4, 3, 1, 2, 2, 4, 4, 3, 2, 4, 0, 2, 4, 2, 4, 2, 0, 3, 2, 2, 1, 4, 2, 4, 2, 2, 4, 1, 2, 2, 0, 2, 3, 1, 4, 4, 4, 2, 1, 2, 2, 3, 2, 1, 2, 4, 4, 1, 4, 1, 4, 0, 1, 4, 1, 3, 2, 4, 4, 3, 2, 2, 3, 3, 2, 2, 4, 0, 2, 4, 2, 2, 2, 3, 4, 4, 4, 0, 4, 2, 4, 4, 2, 3, 5, 4, 3, 2, 5, 4, 4, 2, 2, 0, 0, 2, 2, 4, 4, 0, 3, 0, 4, 4, 2, 1, 4, 1, 4, 1, 0, 2, 4, 2, 4, 4, 2, 2, 1, 4, 4, 2, 2, 2, 4, 4, 4, 1, 5, 4, 5, 2, 2, 3, 4, 2, 1, 3, 1, 0, 0, 4, 1, 3, 4, 4, 2, 3, 4, 1, 3, 1, 2, 3, 4, 2, 4, 4, 4, 2, 2, 1, 3, 1, 0, 0, 0, 2, 5, 4, 1, 3, 4, 3, 2, 2, 2, 2, 1, 2, 1, 1, 2, 4, 1, 0, 2, 0, 4, 1, 2, 2, 4, 4, 1, 4, 4, 0, 2, 2, 4, 2, 4, 2, 2, 2, 2, 2, 2, 4, 2, 2, 4, 4, 3, 3, 4, 1, 1, 4, 4, 4, 4, 2, 0, 1, 2, 5, 2, 2, 2, 4, 4, 1, 3, 2, 1, 4, 4, 5, 2, 3, 4, 2, 2, 2, 4, 1, 2, 4, 0, 2, 4, 4, 2, 2, 1, 2, 1, 2, 2, 4, 0, 4, 4, 4, 0, 0, 2, 2, 3, 1, 4, 2, 2, 4, 4, 2, 2, 4, 2, 3, 2, 3, 1, 4, 2, 3, 2, 4, 2, 4, 0, 2, 0, 2, 4, 0, 4, 4, 0, 4, 4, 4, 2, 5, 2, 2, 2, 2, 2, 2, 0, 2, 2, 1, 3, 4, 4, 0, 4, 4, 4, 1, 2, 1, 2, 4, 2, 5, 2, 1, 2, 2, 0, 3, 2, 1, 1, 4, 0, 4, 2, 4, 3, 3, 4, 0, 1, 2, 4, 3, 0, 2, 2, 4, 4, 0, 2, 4, 2, 0, 2, 2, 2, 1, 3, 4, 4, 4, 4, 3, 2, 2, 0, 2, 4, 2, 4, 4, 2, 4, 4, 2, 1, 0, 1, 2, 4, 4, 2, 4, 2, 2, 3, 2, 4, 1, 4, 0, 2, 1, 0, 2, 1, 4, 4, 5, 0, 2, 2, 1, 2, 0, 3, 3, 0, 3, 4, 4, 3, 2, 4, 2, 2, 0, 1, 0, 4, 2, 4, 4, 4, 0, 5, 2, 0, 2, 2, 4, 3, 2, 0, 3, 4, 4, 4, 4, 4, 2, 1, 2, 1, 4, 1, 2, 4, 4, 4, 2, 1, 3, 5, 2, 4, 2, 0, 2, 4, 2, 4, 3, 3, 0, 0, 2, 4, 4, 4, 4, 4, 2, 3, 1, 4, 2, 3, 2, 2, 4, 2, 2, 4, 0, 4, 1, 1, 1, 3, 5, 4, 4, 2, 2, 4, 0, 2, 2, 4, 4, 3, 1, 2, 0, 4, 2, 4, 2, 2, 4, 3, 4, 0, 2, 2, 2, 2, 4, 3, 4, 5, 4, 2, 2, 1, 2, 2, 4, 2, 2, 4, 4, 4, 5, 2, 4, 5, 2, 1, 1, 1, 0, 3, 0, 2, 2, 0, 2, 2, 0, 0, 4, 2, 2, 2, 1, 4, 2, 2, 4, 0, 2, 2, 3, 1, 0, 4, 4, 2, 3, 4, 2, 5, 0, 4, 4, 4, 3, 1, 3, 2, 2, 4, 4, 4, 3, 1, 1, 5, 2, 2, 1, 1, 0, 2, 4, 4, 4, 4, 2, 4, 2, 4, 4, 3, 0, 3, 2, 0, 0, 4, 2, 1, 5, 3, 4, 2, 4, 2, 2, 3, 4, 3, 4, 2, 3, 4, 4, 2, 1, 4, 2, 2, 2, 1, 5, 4, 5, 0, 2, 0, 0, 4, 4, 2, 4, 3, 2, 2, 3, 2, 2, 5, 3, 4, 1, 4, 2, 2, 4, 1, 0, 4, 2, 4, 1, 2, 1, 1, 3, 2, 4, 0, 2, 5, 2, 2, 3, 0, 4, 3, 3, 2, 2, 4, 2, 4, 0, 2, 2, 4, 1, 0, 0, 3, 2, 2, 1, 0, 1, 2, 2, 4, 2, 1, 2, 2, 0, 2, 2, 2, 2, 0, 1, 2, 3, 2, 2, 4, 3, 4, 1, 2, 4, 2, 4, 0, 2, 2, 4, 1, 2, 2, 2, 3, 2, 1, 3, 1, 2, 2, 0, 4, 2, 4, 3, 5, 4, 4, 2, 2, 2, 2, 1, 2, 0, 2, 2, 0, 2, 4, 4, 2, 2, 2, 2, 0, 4, 2, 0, 3, 4, 0, 0, 2, 4, 5, 2, 3, 1, 5, 0, 3, 1, 2, 3, 4, 2, 4, 3, 4, 5, 3, 2, 2, 1, 3, 1, 2, 3, 4, 4, 4, 5, 1, 2, 4, 2, 4, 2, 2, 2, 0, 2, 3, 0, 2, 4, 2, 0, 4, 4, 2, 2, 4, 1, 2, 4, 4, 4, 2, 1, 4, 2, 4, 0, 4, 1, 4, 2, 4, 1, 2, 2, 2, 1, 3, 3, 4, 2, 2, 2, 2, 2, 0, 4, 2, 4, 4, 3, 4, 1, 2, 0, 2, 1, 4, 1, 2, 2, 3, 4, 2, 1, 4, 4, 4, 2, 3, 1, 2, 4, 1, 2, 4, 4, 4, 3, 2, 4, 2, 2, 2, 2, 1, 2, 0, 2, 4, 1, 5, 2, 5, 4, 0, 2, 2, 4, 2, 2, 4, 2, 4, 0, 4, 1, 1, 2, 5, 4, 4, 1, 4, 4, 1, 2, 4, 4, 4, 4, 2, 4, 2, 3, 3, 4, 2, 0, 4, 4, 3, 1, 2, 2, 2, 2, 4, 2, 2, 0, 4, 3, 1, 4, 2, 2, 2, 0, 2, 4, 0, 1, 3, 2, 4, 4, 1, 0, 2, 5, 1, 2, 2, 1, 4, 4, 2, 5, 2, 5, 4, 4, 1, 3, 2, 2, 2, 4, 2, 2, 4, 5, 5, 2, 1, 4, 4, 4, 2, 4, 4, 2, 2, 2, 1, 2, 3, 0, 2, 2, 5, 2, 4, 4, 2, 2, 2, 4, 2, 0, 0, 4, 1, 2, 4, 1, 5, 2, 0, 0, 2, 4, 0, 3, 2, 1, 4, 1, 2, 4, 2, 2, 1, 2, 4, 3, 2, 4, 0, 2, 2, 2, 2, 2, 2, 2, 0, 0, 3, 0, 4, 1, 4, 5, 5, 1, 4, 4, 2, 1, 0, 4, 2, 4, 2, 4, 1, 2, 2, 2, 0, 2, 0, 2, 4, 0, 2, 4, 2, 0, 2, 1, 2, 4, 2, 2, 1, 3, 0, 4, 1, 4, 2, 5, 2, 2, 1, 2, 4, 2, 3, 4, 4, 2, 2, 4, 1, 0, 4, 2, 3, 2, 0, 2, 4, 2, 2, 2, 5, 2, 4, 0, 1, 0, 4, 4, 0, 2, 2, 0, 4, 2, 2, 4, 4, 2, 2, 3, 2, 2, 0, 0, 5, 2, 0, 2, 2, 2, 2, 4, 4, 4, 2, 4, 0, 2, 4, 3, 3, 2, 1, 5, 4, 0, 2, 2, 3, 2, 5, 2, 3, 4, 4, 0, 2, 0, 2, 4, 3, 2, 2, 4, 1, 4, 4, 4, 0, 1, 4, 3, 2, 1, 2, 1, 4, 4, 4, 2, 2, 1, 4, 2, 2, 5, 4, 3, 4, 4, 4, 4, 3, 4, 2, 4, 2, 4, 2, 2, 2, 2, 0, 0, 2, 3, 2, 4, 2, 0, 2, 1, 4, 4, 4, 2, 2, 1, 4, 1, 2, 0, 0, 2, 0, 0, 2, 4, 4, 0, 1, 4, 2, 4, 1, 4, 4, 2, 4, 2, 1, 4, 1, 2, 4, 4, 1, 0, 4, 1, 2, 1, 2, 0, 1, 2, 1, 2, 1, 2, 0, 4, 4, 2, 4, 4, 1, 0, 2, 4, 2, 2, 4, 2, 4, 5, 2, 0, 4, 3, 1, 1, 2, 0, 2, 0, 5, 4, 2, 1, 3, 4, 2, 4, 4, 1, 1, 2, 4, 4, 4, 4, 4, 2, 4, 4, 2, 2, 0, 1, 3, 4, 3, 1, 4, 1, 4, 4, 2, 3, 2, 2, 4, 1, 0, 4, 2, 1, 0, 4, 4, 2, 1, 2, 4, 4, 4, 4, 4, 2, 2, 2, 0, 1, 0, 3, 4, 4, 4, 4, 0, 0, 2, 2, 2, 2, 2, 2, 4, 4, 4, 4, 4, 4, 2, 0, 0, 4, 4, 2, 2, 0, 3, 1, 4, 4, 4, 0, 4, 4, 4, 2, 4, 3, 4, 1, 4, 2, 4, 4, 2, 0, 4, 2, 0, 4, 0, 2, 4, 4, 4, 4, 2, 4, 2, 2, 2, 3, 3, 2, 2, 2, 4, 4, 2, 4, 2, 1, 2, 1, 4, 4, 0, 3, 4, 1, 5, 4, 2, 4, 5, 4, 1, 3, 0, 0, 4, 1, 2, 2, 4, 0, 2, 4, 1, 1, 0, 4, 2, 2, 3, 1, 0, 4, 2, 1, 1, 3, 4, 0, 2, 0, 2, 1, 2, 4, 0, 4, 4, 4, 4, 4, 2, 1, 2, 1, 2, 4, 2, 2, 2, 2, 0, 3, 4, 2, 2, 2, 4, 3, 2, 3, 3, 2, 1, 4, 2, 2, 4, 1, 2, 4, 2, 1, 0, 3, 3, 2, 2, 2, 0, 1, 3, 0, 1, 2, 5, 0, 0, 0, 2, 3, 1, 4, 2, 4, 1, 1, 4, 0, 4, 4, 2, 2, 3, 1, 2, 2, 4, 3, 2, 2, 2, 4, 2, 2, 2, 1, 2, 5, 1, 4, 4, 4, 2, 4, 2, 4, 2, 2, 3, 1, 2, 0, 0, 4, 2, 1, 2, 0, 2, 2, 3, 2, 0, 2, 4, 3, 4, 1, 2, 1, 5, 4, 1, 2, 4, 1, 2, 2, 4, 2, 3, 0, 2, 2, 0, 2, 2, 2, 0, 3, 4, 4, 0, 3, 2, 4, 1, 4, 2, 1, 4, 2, 2, 4, 3, 4, 2, 4, 4, 0, 3, 0, 4, 4, 2, 4, 4, 1, 4, 2, 2, 0, 2, 4, 4, 0, 1, 2, 4, 2, 4, 0, 1, 2, 2, 4, 1, 2, 0, 4, 0, 4, 2, 1, 2, 2, 3, 2, 4, 2, 3, 2, 4, 3, 2, 0, 0, 4, 5, 4, 2, 2, 4, 0, 4, 0, 0, 3, 0, 4, 2, 4, 4, 2, 0, 2, 3, 1, 2, 2, 3, 0, 5, 0, 2, 2, 1, 4, 1, 2, 2, 0, 2, 4, 2, 1, 0, 4, 0, 4, 2, 3, 4, 4, 3, 2, 2, 1, 4, 5, 3, 2, 1, 4, 1, 0, 5, 2, 0, 2, 4, 3, 2, 3, 2, 2, 2, 4, 2, 4, 3, 1, 2, 5, 2, 4, 2, 2, 1, 5, 3, 3, 3, 4, 0, 2, 4, 0, 4, 4, 4, 3, 4, 4, 3, 4, 1, 5, 4, 4, 4, 2, 2, 0, 2, 4, 4, 4, 0, 3, 0, 2, 3, 2, 0, 0, 4, 1, 3, 2, 2, 0, 4, 3, 3, 1, 2, 2, 2, 4, 2, 2, 0, 2, 3, 1, 4, 3, 4, 2, 3, 4, 0, 4, 1, 4, 1, 0, 3, 0, 4, 3, 2, 4, 2, 4, 4, 0, 0, 0, 0, 4, 0, 1, 2, 4, 5, 4, 1, 1, 0, 0, 3, 0, 1, 4, 2, 4, 0, 4, 3, 1, 2, 4, 0, 2, 0, 2, 4, 0, 2, 2, 2, 2, 4, 2, 2, 0, 2, 4, 4, 3, 4, 0, 2, 5, 2, 2, 2, 4, 4, 4, 5, 2, 0, 5, 1, 4, 0, 2, 0, 2, 0, 2, 5, 2, 1, 2, 0, 1, 4, 2, 4, 4, 4, 4, 0, 5, 0, 4, 2, 5, 0, 2, 4, 3, 4, 4, 2, 0, 5, 4, 2, 2, 4, 4, 4, 2, 4, 0, 2, 1, 0, 5, 4, 0, 4, 2, 2, 4, 0, 2, 3, 4, 3, 4, 1, 2, 2, 4, 4, 3, 0, 2, 4, 2, 2, 4, 2, 4, 0, 2, 2, 1, 2, 5, 0, 2, 2, 0, 2, 2, 4, 4, 1, 1, 3, 4, 2, 2, 5, 4, 0, 2, 4, 2, 0, 4, 2, 2, 4, 4, 2, 1, 1, 4, 4, 2, 2, 2, 2, 2, 2, 5, 2, 4, 3, 1, 4, 4, 2, 4, 0, 2, 4, 3, 0, 2, 1, 0, 0, 4, 2, 1, 4, 1, 4, 1, 0, 4, 1, 4, 2, 4, 2, 3, 2]\n"
     ]
    },
    {
     "name": "stdout",
     "output_type": "stream",
     "text": [
      "Default Classification report\n",
      "              precision    recall  f1-score   support\n",
      "\n",
      "       anger       0.96      0.92      0.94       674\n",
      "        fear       0.89      0.90      0.90       580\n",
      "         joy       0.94      0.95      0.95      1728\n",
      "        love       0.83      0.84      0.84       418\n",
      "     sadness       0.96      0.97      0.97      1414\n",
      "    surprise       0.80      0.78      0.79       178\n",
      "\n",
      "    accuracy                           0.93      4992\n",
      "   macro avg       0.90      0.89      0.90      4992\n",
      "weighted avg       0.93      0.93      0.93      4992\n",
      "\n",
      "\n",
      "Accuracy:\n",
      "0.9300881410256411\n",
      "Correct Predictions:  4643\n",
      "precision: 0.90\n",
      "recall: 0.89\n",
      "f1: 0.90\n",
      "\n",
      "confusion matrix\n",
      " [[ 619   16   12    2   25    0]\n",
      " [   8  520    5    1   21   25]\n",
      " [   4    3 1642   68    3    8]\n",
      " [   0    0   66  352    0    0]\n",
      " [  16   18    7    1 1371    1]\n",
      " [   0   25   11    1    2  139]]\n",
      "(row=expected, col=predicted)\n"
     ]
    },
    {
     "data": {
      "image/png": "[encoded data removed]",
      "text/plain": [
       "<Figure size 400x400 with 2 Axes>"
      ]
     },
     "metadata": {
      "needs_background": "light"
     },
     "output_type": "display_data"
    }
   ],
   "source": [
    "evaluator = Evaluate()\n",
    "\n",
    "final_predictions = []\n",
    "\n",
    "for p in all_predictions:\n",
    "    for sub_p in p:\n",
    "        final_predictions.append(sub_p.cpu().detach().numpy())\n",
    "        \n",
    "predictions = [np.argmax(p).item() for p in final_predictions]\n",
    "print(predictions)\n",
    "targets = [np.argmax(t).item() for t in y_raw]\n",
    "correct_predictions = float(np.sum(predictions == targets))\n",
    "\n",
    "# predictions\n",
    "predictions_human_readable = ((x_raw, predictions))\n",
    "# actual targets\n",
    "target_human_readable = ((x_raw,  targets))\n",
    "\n",
    "emotion_dict = {0: 'anger', 1: 'fear', 2: 'joy', 3: 'love', 4: 'sadness', 5: 'surprise'}\n",
    "\n",
    "# convert results into dataframe\n",
    "model_test_result = pd.DataFrame(predictions_human_readable[1],columns=[\"emotion\"])\n",
    "test = pd.DataFrame(target_human_readable[1], columns=[\"emotion\"])\n",
    "\n",
    "model_test_result.emotion = model_test_result.emotion.map(lambda x: emotion_dict[int(float(x))])\n",
    "test.emotion = test.emotion.map(lambda x: emotion_dict[int(x)])\n",
    "\n",
    "evaluator.evaluate_class(model_test_result.emotion, test.emotion );"
   ]
  }
 ],
 "metadata": {
  "kernelspec": {
   "display_name": "Python 3",
   "language": "python",
   "name": "python3"
  },
  "language_info": {
   "codemirror_mode": {
    "name": "ipython",
    "version": 3
   },
   "file_extension": ".py",
   "mimetype": "text/x-python",
   "name": "python",
   "nbconvert_exporter": "python",
   "pygments_lexer": "ipython3",
   "version": "3.7.0"
  }
 },
 "nbformat": 4,
 "nbformat_minor": 4
}
